{
 "cells": [
  {
   "cell_type": "markdown",
   "metadata": {},
   "source": [
    "# Imports"
   ]
  },
  {
   "cell_type": "code",
   "execution_count": 1,
   "metadata": {},
   "outputs": [],
   "source": [
    "import pandas as pd\n",
    "pd.set_option('display.max_columns', 65)\n",
    "import numpy as np\n",
    "from sklearn.linear_model import LogisticRegression\n",
    "from sklearn.ensemble import GradientBoostingClassifier, RandomForestClassifier\n",
    "from sklearn.tree import DecisionTreeClassifier\n",
    "from sklearn.neighbors import KNeighborsClassifier\n",
    "from sklearn.model_selection import cross_validate, RepeatedKFold, cross_val_score\n",
    "from sklearn.metrics import accuracy_score, log_loss\n",
    "from joblib import dump, load\n",
    "import warnings\n",
    "warnings.filterwarnings('ignore')\n",
    "%load_ext autotime"
   ]
  },
  {
   "cell_type": "markdown",
   "metadata": {},
   "source": [
    "# Read in data and prepare target variable"
   ]
  },
  {
   "cell_type": "code",
   "execution_count": 2,
   "metadata": {},
   "outputs": [
    {
     "name": "stdout",
     "output_type": "stream",
     "text": [
      "time: 21.2 s\n"
     ]
    }
   ],
   "source": [
    "df = pd.read_csv(\"usa_small.csv\")\n",
    "df = df.reindex(columns=(['MARST'] + list([a for a in df.columns if a != 'MARST']) ))"
   ]
  },
  {
   "cell_type": "code",
   "execution_count": 3,
   "metadata": {},
   "outputs": [
    {
     "name": "stdout",
     "output_type": "stream",
     "text": [
      "time: 2.02 s\n"
     ]
    }
   ],
   "source": [
    "df = df[df['MARST'].isin([1,3,4])]\n",
    "\n",
    "df['MARST'] = df['MARST'].replace(1,0)\n",
    "df['MARST'] = df['MARST'].replace([3,4],1)"
   ]
  },
  {
   "cell_type": "code",
   "execution_count": 4,
   "metadata": {},
   "outputs": [
    {
     "name": "stdout",
     "output_type": "stream",
     "text": [
      "time: 37.1 ms\n"
     ]
    }
   ],
   "source": [
    "counts = df[\"MARST\"].value_counts()\n",
    "multiplier = counts[0]/counts[1]"
   ]
  },
  {
   "cell_type": "markdown",
   "metadata": {},
   "source": [
    "# Filter out entries with revealing information"
   ]
  },
  {
   "cell_type": "code",
   "execution_count": 5,
   "metadata": {},
   "outputs": [
    {
     "name": "stdout",
     "output_type": "stream",
     "text": [
      "time: 4.2 s\n"
     ]
    }
   ],
   "source": [
    "df = df[(df[\"FERTYR\"]!=8)]\n",
    "df = df[(df[\"NCOUPLES\"]!=0)]\n",
    "df = df[(df[\"FAMSIZE\"]!=1)]\n",
    "df = df[~df[\"MARRNO_SP\"].isna()]\n",
    "df = df[df[\"MARRNO_SP\"] != 0]\n",
    "df = df[df[\"EMPSTAT\"] != 0]"
   ]
  },
  {
   "cell_type": "markdown",
   "metadata": {},
   "source": [
    "# Resample to keep same distribution"
   ]
  },
  {
   "cell_type": "code",
   "execution_count": 6,
   "metadata": {},
   "outputs": [
    {
     "name": "stdout",
     "output_type": "stream",
     "text": [
      "time: 884 ms\n"
     ]
    }
   ],
   "source": [
    "num_married_sample = int(df[\"MARST\"].value_counts()[1]*multiplier)\n",
    "\n",
    "married = df[df[\"MARST\"]==0].sample(n=num_married_sample, random_state=13)\n",
    "\n",
    "df = df[df[\"MARST\"]==1].append(married)"
   ]
  },
  {
   "cell_type": "markdown",
   "metadata": {},
   "source": [
    "# Create training data"
   ]
  },
  {
   "cell_type": "code",
   "execution_count": null,
   "metadata": {},
   "outputs": [],
   "source": [
    "pd.DataFrame(columns=[\"AGE\", \"AGE_SP\", \"MARRNO\", \"MARRNO_SP\", \"EMPSTAT\", \"EMPSTAT_SP\", \"INCTOT\", \"INCTOT_SP\", \"YEARS_MARRIED\", \"NCHILD\", \n",
    "                      \"FERTYR\", \"FAMSIZE\", \"RACE\", \"STATEFIP\"]).to_csv(\"model_input.csv\", index=False)"
   ]
  },
  {
   "cell_type": "code",
   "execution_count": 56,
   "metadata": {},
   "outputs": [
    {
     "name": "stdout",
     "output_type": "stream",
     "text": [
      "time: 299 ms\n"
     ]
    }
   ],
   "source": [
    "df[\"YEARS_MARRIED\"] = df[\"YEAR\"] - df[\"YRMARR\"]\n",
    "df[\"Age_Difference\"] = abs(df[\"AGE\"] - df[\"AGE_SP\"])\n",
    "df[\"Income_Difference\"] = abs(df[\"INCTOT\"] - df[\"INCTOT_SP\"])\n",
    "X = df[[\"AGE\", \"AGE_SP\", \"MARRNO\", \"MARRNO_SP\", \"EMPSTAT\", \"EMPSTAT_SP\", \"INCTOT\", \"INCTOT_SP\", \"YEARS_MARRIED\", \"NCHILD\", \"FERTYR\", \"FAMSIZE\", \"RACE\", \"STATEFIP\", \n",
    "        \"Age_Difference\", \"Income_Difference\"]]\n",
    "\n",
    "y = df[[\"MARST\"]]"
   ]
  },
  {
   "cell_type": "markdown",
   "metadata": {},
   "source": [
    "# Train and evaluate model"
   ]
  },
  {
   "cell_type": "code",
   "execution_count": 57,
   "metadata": {},
   "outputs": [
    {
     "name": "stdout",
     "output_type": "stream",
     "text": [
      "time: 3min 10s\n"
     ]
    }
   ],
   "source": [
    "model = GradientBoostingClassifier(learning_rate=.1, n_estimators=200, max_depth=7, subsample=1.0, min_samples_split=10, random_state=33)\n",
    "# model = RandomForestClassifier(n_estimators=50, random_state=33, max_depth=3, min_samples_split=2, max_features=\"sqrt\")\n",
    "# model = LogisticRegression()\n",
    "# model = DecisionTreeClassifier()\n",
    "# model = KNeighborsClassifier(n_neighbors=100, n_jobs=-1)\n",
    "cv_results = cross_validate(model, X, y, cv=RepeatedKFold(n_splits=3, n_repeats=1, random_state=7), n_jobs=-1, return_train_score=True, \n",
    "                            scoring=['accuracy', 'neg_log_loss'])"
   ]
  },
  {
   "cell_type": "code",
   "execution_count": 58,
   "metadata": {},
   "outputs": [
    {
     "name": "stdout",
     "output_type": "stream",
     "text": [
      "Accuracy: 0.8318993975406453\n",
      "Log Loss: 0.38256152960943157\n",
      "time: 11.2 ms\n"
     ]
    }
   ],
   "source": [
    "# model = GradientBoostingClassifier(learning_rate=.1, n_estimators=200, max_depth=7, subsample=1.0, min_samples_split=10, random_state=33)\n",
    "# with RACE, STATEFIP, Age_Difference, and Income_Difference\n",
    "print(\"Accuracy: {}\".format(cv_results['test_accuracy'].mean()))\n",
    "print(\"Log Loss: {}\".format(-cv_results['test_neg_log_loss'].mean()))"
   ]
  },
  {
   "cell_type": "code",
   "execution_count": 51,
   "metadata": {},
   "outputs": [
    {
     "name": "stdout",
     "output_type": "stream",
     "text": [
      "Accuracy: 0.832167615746472\n",
      "Log Loss: 0.3837319852908896\n",
      "time: 6.37 ms\n"
     ]
    }
   ],
   "source": [
    "# model = GradientBoostingClassifier(learning_rate=.1, n_estimators=200, max_depth=7, subsample=1.0, min_samples_split=10, random_state=33)\n",
    "# with RACE, STATEFIP, Age_Difference, and Income_Difference\n",
    "print(\"Accuracy: {}\".format(cv_results['test_accuracy'].mean()))\n",
    "print(\"Log Loss: {}\".format(-cv_results['test_neg_log_loss'].mean()))"
   ]
  },
  {
   "cell_type": "code",
   "execution_count": 185,
   "metadata": {},
   "outputs": [
    {
     "name": "stdout",
     "output_type": "stream",
     "text": [
      "Accuracy: 0.8295266980275646\n",
      "Log Loss: 0.3943773794122348\n",
      "time: 3.41 ms\n"
     ]
    }
   ],
   "source": [
    "# model = GradientBoostingClassifier(learning_rate=.1, n_estimators=200, max_depth=7, subsample=1.0, min_samples_split=10, random_state=33)\n",
    "print(\"Accuracy: {}\".format(cv_results['test_accuracy'].mean()))\n",
    "print(\"Log Loss: {}\".format(-cv_results['test_neg_log_loss'].mean()))"
   ]
  },
  {
   "cell_type": "code",
   "execution_count": 91,
   "metadata": {},
   "outputs": [
    {
     "name": "stdout",
     "output_type": "stream",
     "text": [
      "Naive Accuracy: MARST    0.798046\n",
      "dtype: float64\n",
      "Naive Log Loss: 0.5030986820238625\n",
      "time: 6.32 s\n"
     ]
    }
   ],
   "source": [
    "### Naive Model\n",
    "print(\"Naive Accuracy: {}\".format(1-y.mean()))\n",
    "print(\"Naive Log Loss: {}\".format(log_loss(y, [y.mean()]*len(y))))"
   ]
  },
  {
   "cell_type": "code",
   "execution_count": null,
   "metadata": {},
   "outputs": [],
   "source": []
  }
 ],
 "metadata": {
  "kernelspec": {
   "display_name": "Python 3",
   "language": "python",
   "name": "python3"
  },
  "language_info": {
   "codemirror_mode": {
    "name": "ipython",
    "version": 3
   },
   "file_extension": ".py",
   "mimetype": "text/x-python",
   "name": "python",
   "nbconvert_exporter": "python",
   "pygments_lexer": "ipython3",
   "version": "3.7.2"
  }
 },
 "nbformat": 4,
 "nbformat_minor": 4
}
