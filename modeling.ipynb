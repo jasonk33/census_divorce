{
 "cells": [
  {
   "cell_type": "markdown",
   "metadata": {},
   "source": [
    "# Imports"
   ]
  },
  {
   "cell_type": "code",
   "execution_count": 1,
   "metadata": {},
   "outputs": [],
   "source": [
    "import pandas as pd\n",
    "pd.set_option('display.max_columns', 65)\n",
    "import numpy as np\n",
    "from sklearn.linear_model import LogisticRegression\n",
    "from sklearn.ensemble import GradientBoostingClassifier, RandomForestClassifier\n",
    "from sklearn.tree import DecisionTreeClassifier\n",
    "from sklearn.neighbors import KNeighborsClassifier\n",
    "from sklearn.model_selection import cross_validate, RepeatedKFold, cross_val_score\n",
    "from sklearn.metrics import accuracy_score, log_loss\n",
    "from joblib import dump, load\n",
    "import warnings\n",
    "import json\n",
    "warnings.filterwarnings('ignore')\n",
    "from pandarallel import pandarallel\n",
    "# pandarallel.initialize(shm_size_mb=32000, nb_workers=24)\n",
    "%load_ext autotime"
   ]
  },
  {
   "cell_type": "markdown",
   "metadata": {},
   "source": [
    "# Read in data and prepare target variable"
   ]
  },
  {
   "cell_type": "code",
   "execution_count": 2,
   "metadata": {},
   "outputs": [
    {
     "name": "stdout",
     "output_type": "stream",
     "text": [
      "time: 10.7 s\n"
     ]
    }
   ],
   "source": [
    "df = pd.read_csv(\"usa_small.csv\")"
   ]
  },
  {
   "cell_type": "code",
   "execution_count": 3,
   "metadata": {},
   "outputs": [
    {
     "name": "stdout",
     "output_type": "stream",
     "text": [
      "time: 1.91 s\n"
     ]
    }
   ],
   "source": [
    "df = df[df['MARST'].isin([1,3,4])]\n",
    "\n",
    "df['MARST'] = df['MARST'].replace(1,0)\n",
    "df['MARST'] = df['MARST'].replace([3,4],1)"
   ]
  },
  {
   "cell_type": "markdown",
   "metadata": {},
   "source": [
    "# Filter out entries with revealing information"
   ]
  },
  {
   "cell_type": "code",
   "execution_count": 4,
   "metadata": {},
   "outputs": [
    {
     "name": "stdout",
     "output_type": "stream",
     "text": [
      "time: 2.89 s\n"
     ]
    }
   ],
   "source": [
    "df = df[(df[\"FERTYR\"]!=8)]\n",
    "df = df[(df[\"NCOUPLES\"]!=0)]\n",
    "df = df[(df[\"FAMSIZE\"]!=1)]\n",
    "df = df[~df[\"MARRNO_SP\"].isna()]\n",
    "df = df[df[\"MARRNO_SP\"] != 0]\n",
    "df = df[df[\"EMPSTAT\"] != 0]\n",
    "df = df[~df[\"OCCUPATION_CATEGORY_SP\"].isna()]"
   ]
  },
  {
   "cell_type": "markdown",
   "metadata": {},
   "source": [
    "# Resample to keep same distribution"
   ]
  },
  {
   "cell_type": "code",
   "execution_count": 5,
   "metadata": {},
   "outputs": [
    {
     "name": "stdout",
     "output_type": "stream",
     "text": [
      "time: 523 ms\n"
     ]
    }
   ],
   "source": [
    "divorce_rate = 0.5\n",
    "multiplier = (1 - divorce_rate)/divorce_rate\n",
    "num_married_sample = int(df[\"MARST\"].value_counts()[1]*multiplier)\n",
    "\n",
    "married = df[df[\"MARST\"]==0].sample(n=num_married_sample, random_state=13)\n",
    "\n",
    "df = df[df[\"MARST\"]==1].append(married)"
   ]
  },
  {
   "cell_type": "markdown",
   "metadata": {},
   "source": [
    "# Create training data"
   ]
  },
  {
   "cell_type": "code",
   "execution_count": 6,
   "metadata": {},
   "outputs": [
    {
     "name": "stdout",
     "output_type": "stream",
     "text": [
      "time: 24.1 ms\n"
     ]
    }
   ],
   "source": [
    "df[\"MARRNO\"] -= 1\n",
    "df[\"MARRNO_SP\"] -= 1"
   ]
  },
  {
   "cell_type": "code",
   "execution_count": 7,
   "metadata": {},
   "outputs": [
    {
     "name": "stdout",
     "output_type": "stream",
     "text": [
      "time: 102 ms\n"
     ]
    }
   ],
   "source": [
    "X_columns = [\"AGE\", \"AGE_SP\", \"MARRNO\", \"MARRNO_SP\", \"EMPSTAT\", \"EMPSTAT_SP\", \"INCTOT\", \"INCTOT_SP\", \"RACE\", \"RACE_SP\", \n",
    "             \"OCCUPATION_CATEGORY\", \"OCCUPATION_CATEGORY_SP\", \"STATEFIP\"]\n",
    "X = df[X_columns]\n",
    "\n",
    "X[\"Age_Difference\"] = abs(X[\"AGE\"] - X[\"AGE_SP\"])\n",
    "X[\"Income_Difference\"] = abs(X[\"INCTOT\"] - X[\"INCTOT_SP\"])\n",
    "y = df[[\"MARST\"]]\n",
    "pd.DataFrame(columns=X_columns).to_csv(\"model_input.csv\", index=False)"
   ]
  },
  {
   "cell_type": "markdown",
   "metadata": {},
   "source": [
    "# Train and evaluate model"
   ]
  },
  {
   "cell_type": "code",
   "execution_count": 8,
   "metadata": {},
   "outputs": [
    {
     "name": "stdout",
     "output_type": "stream",
     "text": [
      "time: 53.7 s\n"
     ]
    }
   ],
   "source": [
    "model = GradientBoostingClassifier(learning_rate=.1, n_estimators=200, max_depth=5, subsample=1.0, min_samples_split=10, random_state=33)\n",
    "# model = LogisticRegression()\n",
    "cv_results = cross_validate(model, X, y, cv=RepeatedKFold(n_splits=5, n_repeats=3, random_state=7), n_jobs=-1, return_train_score=True, \n",
    "                            scoring=['accuracy', 'neg_log_loss'])"
   ]
  },
  {
   "cell_type": "code",
   "execution_count": 9,
   "metadata": {},
   "outputs": [
    {
     "name": "stdout",
     "output_type": "stream",
     "text": [
      "Accuracy: 0.6984211194314\n",
      "Log Loss: 0.5740558237424364\n",
      "time: 4.61 ms\n"
     ]
    }
   ],
   "source": [
    "# model = GradientBoostingClassifier(learning_rate=.1, n_estimators=200, max_depth=5, subsample=1.0, min_samples_split=10, random_state=33)\n",
    "print(\"Accuracy: {}\".format(cv_results['test_accuracy'].mean()))\n",
    "print(\"Log Loss: {}\".format(-cv_results['test_neg_log_loss'].mean()))"
   ]
  },
  {
   "cell_type": "code",
   "execution_count": 10,
   "metadata": {},
   "outputs": [
    {
     "name": "stdout",
     "output_type": "stream",
     "text": [
      "Naive Accuracy: MARST    0.5\n",
      "dtype: float64\n",
      "Naive Log Loss: 0.6931471805599453\n",
      "time: 2.22 s\n"
     ]
    }
   ],
   "source": [
    "### Naive Model\n",
    "print(\"Naive Accuracy: {}\".format(1-y.mean()))\n",
    "print(\"Naive Log Loss: {}\".format(log_loss(y, [y.mean()]*len(y))))"
   ]
  },
  {
   "cell_type": "markdown",
   "metadata": {},
   "source": [
    "# Train and save model"
   ]
  },
  {
   "cell_type": "code",
   "execution_count": 11,
   "metadata": {},
   "outputs": [
    {
     "data": {
      "text/plain": [
       "GradientBoostingClassifier(criterion='friedman_mse', init=None,\n",
       "                           learning_rate=0.1, loss='deviance', max_depth=5,\n",
       "                           max_features=None, max_leaf_nodes=None,\n",
       "                           min_impurity_decrease=0.0, min_impurity_split=None,\n",
       "                           min_samples_leaf=1, min_samples_split=10,\n",
       "                           min_weight_fraction_leaf=0.0, n_estimators=200,\n",
       "                           n_iter_no_change=None, presort='auto',\n",
       "                           random_state=33, subsample=1.0, tol=0.0001,\n",
       "                           validation_fraction=0.1, verbose=0,\n",
       "                           warm_start=False)"
      ]
     },
     "execution_count": 11,
     "metadata": {},
     "output_type": "execute_result"
    },
    {
     "name": "stdout",
     "output_type": "stream",
     "text": [
      "time: 17.1 s\n"
     ]
    }
   ],
   "source": [
    "model = GradientBoostingClassifier(learning_rate=.1, n_estimators=200, max_depth=5, subsample=1.0, min_samples_split=10, random_state=33)\n",
    "model.fit(X,y)"
   ]
  },
  {
   "cell_type": "code",
   "execution_count": 12,
   "metadata": {},
   "outputs": [
    {
     "data": {
      "text/plain": [
       "['GBC.joblib']"
      ]
     },
     "execution_count": 12,
     "metadata": {},
     "output_type": "execute_result"
    },
    {
     "name": "stdout",
     "output_type": "stream",
     "text": [
      "time: 51.1 ms\n"
     ]
    }
   ],
   "source": [
    "dump(model, \"GBC.joblib\")"
   ]
  },
  {
   "cell_type": "markdown",
   "metadata": {},
   "source": [
    "# Load model and make predictions"
   ]
  },
  {
   "cell_type": "code",
   "execution_count": 14,
   "metadata": {},
   "outputs": [
    {
     "name": "stdout",
     "output_type": "stream",
     "text": [
      "time: 45.2 ms\n"
     ]
    }
   ],
   "source": [
    "model = load(\"GBC.joblib\")"
   ]
  },
  {
   "cell_type": "code",
   "execution_count": 15,
   "metadata": {},
   "outputs": [
    {
     "name": "stdout",
     "output_type": "stream",
     "text": [
      "time: 33.3 ms\n"
     ]
    }
   ],
   "source": [
    "pred_data = pd.read_excel(\"h or s model.xlsx\")"
   ]
  },
  {
   "cell_type": "code",
   "execution_count": 53,
   "metadata": {},
   "outputs": [
    {
     "name": "stdout",
     "output_type": "stream",
     "text": [
      "time: 6.16 ms\n"
     ]
    }
   ],
   "source": [
    "pred_data[\"Age_Difference\"] = abs(pred_data[\"AGE\"] - pred_data[\"AGE_SP\"])\n",
    "pred_data[\"Income_Difference\"] = abs(pred_data[\"INCTOT\"] - pred_data[\"INCTOT_SP\"])"
   ]
  },
  {
   "cell_type": "code",
   "execution_count": 54,
   "metadata": {},
   "outputs": [
    {
     "name": "stdout",
     "output_type": "stream",
     "text": [
      "time: 10.4 ms\n"
     ]
    }
   ],
   "source": [
    "pred_data['divorce_probability'] = model.predict_proba(pred_data)[:,1]"
   ]
  },
  {
   "cell_type": "code",
   "execution_count": 23,
   "metadata": {},
   "outputs": [
    {
     "name": "stdout",
     "output_type": "stream",
     "text": [
      "time: 13.8 ms\n"
     ]
    }
   ],
   "source": [
    "pred_data.to_csv(\"prediction_output.csv\", index=False)"
   ]
  },
  {
   "cell_type": "markdown",
   "metadata": {},
   "source": [
    "# Initial setup"
   ]
  },
  {
   "cell_type": "code",
   "execution_count": 2,
   "metadata": {},
   "outputs": [
    {
     "name": "stdout",
     "output_type": "stream",
     "text": [
      "time: 11.1 s\n"
     ]
    }
   ],
   "source": [
    "df = pd.read_csv(\"usa_small.csv\")\n",
    "df = df.reindex(columns=(['MARST'] + list([a for a in df.columns if a != 'MARST']) ))"
   ]
  },
  {
   "cell_type": "code",
   "execution_count": 3,
   "metadata": {},
   "outputs": [
    {
     "name": "stdout",
     "output_type": "stream",
     "text": [
      "time: 6.62 ms\n"
     ]
    }
   ],
   "source": [
    "with open(\"variable_codes/occupation_ranges.txt\", \"r\") as f:\n",
    "    occupation_ranges_text = f.read()"
   ]
  },
  {
   "cell_type": "code",
   "execution_count": 4,
   "metadata": {},
   "outputs": [
    {
     "name": "stdout",
     "output_type": "stream",
     "text": [
      "time: 4.44 ms\n"
     ]
    }
   ],
   "source": [
    "occupation_category_map = {}\n",
    "for category_string in occupation_ranges_text.split(\"\\n\"):\n",
    "    category_string_split = category_string.split(\" = \")\n",
    "    category = category_string_split[0]\n",
    "    category_range_split = category_string_split[1].split(\"-\")\n",
    "    start_range = int(category_range_split[0])\n",
    "    try:\n",
    "        end_range = int(category_range_split[1])\n",
    "    except:\n",
    "        end_range = start_range\n",
    "    category_range = (start_range, end_range)\n",
    "    occupation_category_map[category] = category_range"
   ]
  },
  {
   "cell_type": "code",
   "execution_count": 5,
   "metadata": {},
   "outputs": [
    {
     "name": "stdout",
     "output_type": "stream",
     "text": [
      "time: 2.83 ms\n"
     ]
    }
   ],
   "source": [
    "with open(\"variable_codes/occupation_range.json\", \"w\") as f:\n",
    "    json.dump(occupation_category_map, f)"
   ]
  },
  {
   "cell_type": "code",
   "execution_count": null,
   "metadata": {},
   "outputs": [],
   "source": [
    "def get_occupation(row):\n",
    "    for category,cat_range in occupation_category_map.items():\n",
    "        if row[\"OCC2010\"] in range(cat_range[0], cat_range[1]+1):\n",
    "            return cat_range[0]\n",
    "    return None\n",
    "\n",
    "def get_occupation_spouse(row):\n",
    "    for category,cat_range in occupation_category_map.items():\n",
    "        if row[\"OCC2010_SP\"] in range(cat_range[0], cat_range[1]+1):\n",
    "            return cat_range[0]\n",
    "    return None"
   ]
  },
  {
   "cell_type": "code",
   "execution_count": null,
   "metadata": {},
   "outputs": [],
   "source": [
    "df[\"OCCUPATION_CATEGORY\"] = df.parallel_apply(get_occupation, axis=1)\n",
    "df[\"OCCUPATION_CATEGORY_SP\"] = df.parallel_apply(get_occupation_spouse, axis=1)"
   ]
  },
  {
   "cell_type": "code",
   "execution_count": null,
   "metadata": {},
   "outputs": [],
   "source": [
    "df.to_csv(\"usa_small.csv\", index=False)"
   ]
  }
 ],
 "metadata": {
  "kernelspec": {
   "display_name": "Python 3",
   "language": "python",
   "name": "python3"
  },
  "language_info": {
   "codemirror_mode": {
    "name": "ipython",
    "version": 3
   },
   "file_extension": ".py",
   "mimetype": "text/x-python",
   "name": "python",
   "nbconvert_exporter": "python",
   "pygments_lexer": "ipython3",
   "version": "3.7.2"
  }
 },
 "nbformat": 4,
 "nbformat_minor": 4
}
